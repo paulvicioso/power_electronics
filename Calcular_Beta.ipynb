{
 "cells": [
  {
   "cell_type": "markdown",
   "id": "f91e20c9",
   "metadata": {},
   "source": [
    "## Rectificador Monofásico de Onda Completa\n",
    "### Para una carga Inductiva\n",
    "\n",
    "$\\alpha < \\omega t < \\beta$\n",
    "\n",
    "$\\chi = \\frac{E}{V_m}$\n",
    "\n",
    "$\\omega t = \\alpha$"
   ]
  },
  {
   "cell_type": "markdown",
   "id": "c9712ee8",
   "metadata": {},
   "source": [
    "Se importan todas las liberías necesarias."
   ]
  },
  {
   "cell_type": "code",
   "execution_count": 51,
   "id": "706990dd",
   "metadata": {},
   "outputs": [],
   "source": [
    "import numpy as np\n",
    "import math as math\n",
    "import matplotlib.pyplot as plt"
   ]
  },
  {
   "cell_type": "markdown",
   "id": "c8405778",
   "metadata": {},
   "source": [
    "Parámetros de entrada."
   ]
  },
  {
   "cell_type": "code",
   "execution_count": 52,
   "id": "c2c5f3d5",
   "metadata": {},
   "outputs": [],
   "source": [
    "Vs = 120        # V (rms)\n",
    "E = 10          # V (DC)\n",
    "Freq = 60       # Hz\n",
    "\n",
    "R = 2.5         # ohms\n",
    "L = 6.5e-3      # Henries"
   ]
  },
  {
   "cell_type": "markdown",
   "id": "cfdd8dd5",
   "metadata": {},
   "source": [
    "Se calculan los valores iniciales."
   ]
  },
  {
   "cell_type": "code",
   "execution_count": 53,
   "id": "ff6e1c39",
   "metadata": {},
   "outputs": [],
   "source": [
    "omega = 2 * math.pi * Freq   # angular freq. (rad/s)\n",
    "Vm = Vs * math.sqrt(2)  # Voltaje Maximo\n",
    "Z = math.sqrt(R**2 + (omega*L)**2)  # impedancia de la carga\n",
    "theta = math.atan2((omega*L), R)      # angulo de impedancia de la carga\n",
    "chi = E / Vm        # relacion de voltaje\n",
    "alpha = math.asin(chi)"
   ]
  },
  {
   "cell_type": "markdown",
   "id": "c280023b",
   "metadata": {},
   "source": [
    "Se genera un arreglo con los ángulos a probar."
   ]
  },
  {
   "cell_type": "code",
   "execution_count": 54,
   "id": "22407ea2",
   "metadata": {},
   "outputs": [],
   "source": [
    "angles = np.arange(math.pi/2.0, 2*math.pi, 1e-3)"
   ]
  },
  {
   "cell_type": "markdown",
   "id": "4325bcdb",
   "metadata": {},
   "source": [
    "Se crea una lista con todos los cálculos para los ángulos dados y se convierten a grados sexagesimales."
   ]
  },
  {
   "cell_type": "code",
   "execution_count": 55,
   "id": "676efe12",
   "metadata": {},
   "outputs": [],
   "source": [
    "temp = [math.sin(beta - theta)\n",
    "        + (chi/math.cos(theta) - math.sin(alpha - theta))\n",
    "        * math.exp((alpha - beta) / math.tan(theta))\n",
    "        - chi/math.cos(theta) for beta in angles]\n",
    "\n",
    "angles = np.degrees(angles)"
   ]
  },
  {
   "cell_type": "markdown",
   "id": "d90b8baa",
   "metadata": {},
   "source": [
    "El valor mínimo de esta lista nos entrega el ángulo $\\beta$."
   ]
  },
  {
   "cell_type": "code",
   "execution_count": 56,
   "id": "85852201",
   "metadata": {},
   "outputs": [
    {
     "name": "stdout",
     "output_type": "stream",
     "text": [
      "El valor de Beta es 220.58\n"
     ]
    }
   ],
   "source": [
    "res = [abs(ele) for ele in temp]\n",
    "x0, y0 = (angles[res.index(min(res))], temp[res.index(min(res))])\n",
    "\n",
    "xtext, ytext = (max(angles) / 10.0, max(res) / 4.0)\n",
    "\n",
    "print('El valor de Beta es {:.2f}'.format(x0))"
   ]
  },
  {
   "cell_type": "markdown",
   "id": "ad5e66d4",
   "metadata": {},
   "source": [
    "Finalmente, se grafica la salida para cada valor del ángulo $\\beta$ y se muestra el punto que representa la solución."
   ]
  },
  {
   "cell_type": "code",
   "execution_count": 57,
   "id": "418128e0",
   "metadata": {},
   "outputs": [
    {
     "data": {
      "image/png": "[encoded data removed]",
      "text/plain": [
       "<Figure size 432x288 with 1 Axes>"
      ]
     },
     "metadata": {
      "needs_background": "light"
     },
     "output_type": "display_data"
    }
   ],
   "source": [
    "# Plot the points using matplotlib\n",
    "plt.plot(angles, temp, lw=2)\n",
    "plt.plot(x0, y0, 'go')\n",
    "\n",
    "text = r'$\\beta = {0:.2f}, f(\\beta) = {1:.2f}$'.format(x0, math.fabs(y0))\n",
    "\n",
    "plt.annotate(text, xy=(x0, y0), xytext=(x0 + xtext, ytext),\n",
    "            arrowprops=dict(facecolor='black', shrink=0.05),)\n",
    "\n",
    "plt.title(r'Variaciones del angulo $\\beta$ con relacion al voltaje $\\chi$')\n",
    "plt.ylabel(r'$f_{\\left(\\beta\\right)} \\/\\/\\/ [\\#]$')\n",
    "plt.xlabel(r'$\\mathit{Valores \\/\\/ de \\/\\/ \\beta} \\/\\/\\/[Degrees]$')\n",
    "plt.grid(True)\n",
    "plt.show()\n"
   ]
  },
  {
   "cell_type": "code",
   "execution_count": null,
   "id": "3ff773e0",
   "metadata": {},
   "outputs": [],
   "source": []
  }
 ],
 "metadata": {
  "kernelspec": {
   "display_name": "Python 3 (ipykernel)",
   "language": "python",
   "name": "python3"
  },
  "language_info": {
   "codemirror_mode": {
    "name": "ipython",
    "version": 3
   },
   "file_extension": ".py",
   "mimetype": "text/x-python",
   "name": "python",
   "nbconvert_exporter": "python",
   "pygments_lexer": "ipython3",
   "version": "3.9.5"
  }
 },
 "nbformat": 4,
 "nbformat_minor": 5
}
